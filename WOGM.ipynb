{
  "nbformat": 4,
  "nbformat_minor": 0,
  "metadata": {
    "colab": {
      "name": "WOGM.ipynb",
      "provenance": [],
      "collapsed_sections": [],
      "authorship_tag": "ABX9TyOrMiiRbSWHpunxpt0898V0",
      "include_colab_link": true
    },
    "kernelspec": {
      "name": "python3",
      "display_name": "Python 3"
    },
    "language_info": {
      "name": "python"
    }
  },
  "cells": [
    {
      "cell_type": "markdown",
      "metadata": {
        "id": "view-in-github",
        "colab_type": "text"
      },
      "source": [
        "<a href=\"https://colab.research.google.com/github/wogm1970/webex-teams-auth-sample/blob/master/WOGM.ipynb\" target=\"_parent\"><img src=\"https://colab.research.google.com/assets/colab-badge.svg\" alt=\"Open In Colab\"/></a>"
      ]
    },
    {
      "cell_type": "code",
      "metadata": {
        "id": "99u6flZMOZxb",
        "colab": {
          "base_uri": "https://localhost:8080/"
        },
        "outputId": "cb2ce9e8-880e-49dd-bd00-c567d19eb64e"
      },
      "source": [
        "def valor_absoluto(x):\n",
        "    if x>=0:\n",
        "      return x\n",
        "    else:\n",
        "      return -x\n",
        "\n",
        "x = float(input(\"Ingrese un numero real X: \"))\n",
        "valorAbs = valor_absoluto(x)\n",
        "print(\"El valor absoluto de \" + str(x), end=' ')\n",
        "print(\"es \" + str(valorAbs))"
      ],
      "execution_count": null,
      "outputs": [
        {
          "output_type": "stream",
          "text": [
            "Ingrese un numero real X: -15\n",
            "El valor absoluto de -15.0 es 15.0\n"
          ],
          "name": "stdout"
        }
      ]
    },
    {
      "cell_type": "code",
      "metadata": {
        "colab": {
          "base_uri": "https://localhost:8080/"
        },
        "id": "kbpzS27nH676",
        "outputId": "c14f03d9-22d3-4e08-98eb-70cf1be7fa36"
      },
      "source": [
        "def tesoro_helios(monedas):\n",
        "    helios = 2 * monedas + 4\n",
        "    return helios\n",
        "\n",
        "def tesoro_lumina(monedas):\n",
        "    lumina = (tesoro_helios(monedas) + monedas)/5\n",
        "    return lumina\n",
        "\n",
        "\n",
        "def categorias(monedas):\n",
        "    if monedas < 20:\n",
        "        print(\"Uno\")\n",
        "    elif 20 < monedas < 30:\n",
        "        print(\"dos\")\n",
        "    elif 30 < monedas < 50:\n",
        "        print(\"tres\")\n",
        "    elif monedas > 50:\n",
        "        print(\"Cuatro\")\n",
        "    \n",
        "\n",
        "mon_sparrow = int(input(\"Ingrese el numero de monedas que encontro Jack Sparrow: \"))\n",
        "\n",
        "mon_helios = tesoro_helios(mon_sparrow)\n",
        "mon_lumina = tesoro_lumina(mon_sparrow)\n",
        "\n",
        "\n",
        "print(str(mon_sparrow) + \" \" + str(int(mon_helios)) + \" \" + str(int(mon_lumina)))\n",
        "categorias(mon_lumina)"
      ],
      "execution_count": 1,
      "outputs": [
        {
          "output_type": "stream",
          "text": [
            "Ingrese el numero de monedas que encontro Jack Sparrow: 5\n",
            "5 14 3\n",
            "Uno\n"
          ],
          "name": "stdout"
        }
      ]
    },
    {
      "cell_type": "code",
      "metadata": {
        "id": "8pofk3aBOadk",
        "colab": {
          "base_uri": "https://localhost:8080/"
        },
        "outputId": "47a00749-4903-48af-c508-1cc4608dddf2"
      },
      "source": [
        "def numero_mayor(x, y):\n",
        "    if x>y:\n",
        "        return x\n",
        "    elif y>x:\n",
        "      return y\n",
        "    \n",
        "print(\"Cual es el numero Mayor\")\n",
        "x=float(input(\"Digite numero: 1: \"))\n",
        "y=float(input(\"Digite numero 2: \"))\n",
        "\n",
        "mayor=numero_mayor(x,y)\n",
        "\n",
        "if mayor==None:\n",
        "    print(\"Los numeros son iguales \" + \" Numero 1 : \" + str(x) + \" Numero 2 :  \" + str(y))\n",
        "else:\n",
        "   print(\"El numero Mayor es: \" + str(mayor))"
      ],
      "execution_count": null,
      "outputs": [
        {
          "output_type": "stream",
          "text": [
            "Cual es el numero Mayor\n",
            "Digite numero: 1: 60\n",
            "Digite numero 2: 1\n",
            "El numero Mayor es: 60.0\n"
          ],
          "name": "stdout"
        }
      ]
    }
  ]
}